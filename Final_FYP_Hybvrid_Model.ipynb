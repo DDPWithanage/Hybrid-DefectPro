{
  "cells": [
    {
      "cell_type": "code",
      "execution_count": null,
      "metadata": {
        "id": "JZfwc9VwTdgv"
      },
      "outputs": [],
      "source": [
        "import pandas as pd\n",
        "import keras\n",
        "from sklearn.ensemble import RandomForestClassifier\n",
        "from sklearn.model_selection import train_test_split\n",
        "from tensorflow.keras.utils import to_categorical\n",
        "import tensorflow as tf\n",
        "from tensorflow.keras.models import Sequential\n",
        "from tensorflow.keras.layers import Conv1D, MaxPooling1D, Flatten, Dense\n",
        "from sklearn.metrics import accuracy_score, confusion_matrix, precision_score, recall_score, f1_score\n",
        "from sklearn.preprocessing import StandardScaler"
      ]
    },
    {
      "cell_type": "code",
      "execution_count": null,
      "metadata": {
        "id": "AWVKVQBM2z_q"
      },
      "outputs": [],
      "source": [
        "from sklearn.metrics import classification_report\n",
        "import pickle\n",
        "from sklearn.metrics import accuracy_score\n",
        "from sklearn.metrics import confusion_matrix\n",
        "import matplotlib.pyplot as plt\n",
        "import itertools\n",
        "import numpy as np "
      ]
    },
    {
      "cell_type": "code",
      "source": [
        "def plot_confusion_matrix(cm, classes,\n",
        "                          normalize=False,\n",
        "                          title='Confusion matrix',\n",
        "                              cmap=plt.cm.Greens):\n",
        "    plt.figure(figsize=(50, 20), dpi=130)\n",
        "    plt.imshow(cm, interpolation='nearest', cmap=cmap)\n",
        "    plt.title(title)\n",
        "    plt.colorbar()\n",
        "    tick_marks = np.arange(len(classes))\n",
        "    plt.xticks(tick_marks, classes, rotation=45)\n",
        "    plt.yticks(tick_marks, classes)\n",
        "\n",
        "    if normalize:\n",
        "        cm = cm.astype('float') / cm.sum(axis=1)[:, np.newaxis]\n",
        "\n",
        "    thresh = cm.max() / 2.\n",
        "    for i, j in itertools.product(range(cm.shape[0]), range(cm.shape[1])):\n",
        "        plt.text(j, i, cm[i, j],\n",
        "                 horizontalalignment=\"center\",\n",
        "                 color=\"white\" if cm[i, j] > thresh else \"black\")\n",
        "\n",
        "    plt.tight_layout()\n",
        "    plt.ylabel('True label')\n",
        "    plt.xlabel('Predicted label')"
      ],
      "metadata": {
        "id": "aFy5VXUMw12R"
      },
      "execution_count": null,
      "outputs": []
    },
    {
      "cell_type": "code",
      "execution_count": null,
      "metadata": {
        "id": "u8TcRn4dTlpC"
      },
      "outputs": [],
      "source": [
        "# Load the data\n",
        "df = pd.read_csv('/content/Dataset_latest.csv')"
      ]
    },
    {
      "cell_type": "code",
      "source": [
        "# Preprocess the data\n",
        "# Handle missing values\n",
        "df.fillna(0, inplace=True)  # Replace missing values with 0 or use appropriate imputation method"
      ],
      "metadata": {
        "id": "r-s6x7UsFJad"
      },
      "execution_count": null,
      "outputs": []
    },
    {
      "cell_type": "code",
      "execution_count": null,
      "metadata": {
        "id": "P9v7P-zATo0C"
      },
      "outputs": [],
      "source": [
        "# Split the data into input features and target variable\n",
        "X = df.drop('defects', axis=1) #input features\n",
        "y = df['defects'] #target variable - defects column"
      ]
    },
    {
      "cell_type": "code",
      "execution_count": null,
      "metadata": {
        "id": "cfpef_wnTrHa"
      },
      "outputs": [],
      "source": [
        "# Split the data into training and test sets \n",
        "X_train, X_test, y_train, y_test = train_test_split(X, y, test_size=0.2) "
      ]
    },
    {
      "cell_type": "code",
      "execution_count": null,
      "metadata": {
        "colab": {
          "base_uri": "https://localhost:8080/"
        },
        "id": "-y9YW-_ATv17",
        "outputId": "d320c6ed-6d6c-4a33-f476-781eedaf77b2"
      },
      "outputs": [
        {
          "output_type": "stream",
          "name": "stdout",
          "text": [
            "accuracy is:  1.0\n",
            "              precision    recall  f1-score   support\n",
            "\n",
            "       False       1.00      1.00      1.00       241\n",
            "        True       1.00      1.00      1.00       563\n",
            "\n",
            "    accuracy                           1.00       804\n",
            "   macro avg       1.00      1.00      1.00       804\n",
            "weighted avg       1.00      1.00      1.00       804\n",
            "\n"
          ]
        }
      ],
      "source": [
        "# Train a Random Forest Classifier on the training data\n",
        "rfc = RandomForestClassifier()\n",
        "rfc.fit(X_train, y_train) #fit the data to the model and trained it\n",
        "yp = rfc.predict(X_test) #make predictions on the test set\n",
        "acc = accuracy_score(y_test, yp)\n",
        "print(\"accuracy is: \",acc)\n",
        "print(classification_report(y_test, yp))\n",
        "CM = confusion_matrix(y_test, yp)\n",
        "#plot_confusion_matrix(CM, classes = range(2),cmap=plt.cm.Reds)\n",
        "pickle.dump(rfc, open(\"rfc_model.pkl\", 'wb'))"
      ]
    },
    {
      "cell_type": "code",
      "execution_count": null,
      "metadata": {
        "id": "YmCTK_-OTy9a",
        "colab": {
          "base_uri": "https://localhost:8080/"
        },
        "outputId": "c48c3223-44e0-4620-b0a1-10573c7c6798"
      },
      "outputs": [
        {
          "output_type": "stream",
          "name": "stdout",
          "text": [
            "Shape of features_train: (3216, 100)\n",
            "Features_train matrix:\n",
            "[[203 196 205 ... 218 195 229]\n",
            " [255 299 267 ... 260 186 244]\n",
            " [105  91 172 ... 171 179 155]\n",
            " ...\n",
            " [119 122 123 ... 121 146 174]\n",
            " [101  42 157 ... 108 157 187]\n",
            " [ 15  59  11 ...  33  21  19]]\n",
            "Shape of features_test: (804, 100)\n",
            "Features_test matrix:\n",
            "[[  6  53  11 ...  14   6   6]\n",
            " [222 196 229 ... 227 241 231]\n",
            " [137  50 123 ... 124 146 186]\n",
            " ...\n",
            " [  4   9   5 ...   8   6   6]\n",
            " [233 248 247 ... 218 241 264]\n",
            " [213 178 226 ... 245 184 238]]\n"
          ]
        }
      ],
      "source": [
        "# Extract features using the trained Random Forest Classifier on the test data\n",
        "features_train = rfc.apply(X_train)\n",
        "print(\"Shape of features_train:\", features_train.shape)\n",
        "print(\"Features_train matrix:\")\n",
        "print(features_train)\n",
        "\n",
        "features_test = rfc.apply(X_test)\n",
        "print(\"Shape of features_test:\", features_test.shape)\n",
        "print(\"Features_test matrix:\")\n",
        "print(features_test)\n"
      ]
    },
    {
      "cell_type": "code",
      "execution_count": null,
      "metadata": {
        "id": "mO8uhT59T1oh",
        "colab": {
          "base_uri": "https://localhost:8080/"
        },
        "outputId": "e830c063-a4df-456a-e24f-3acbdded8f9d"
      },
      "outputs": [
        {
          "output_type": "stream",
          "name": "stdout",
          "text": [
            "Shape of reshaped features_train: (3216, 100, 1)\n",
            "Shape of reshaped features_test: (804, 100, 1)\n"
          ]
        }
      ],
      "source": [
        "# Reshape the features for use in a CNN\n",
        "#Adding an extra dimension to prepare them for use as input in a CNN\n",
        "#CNN Model expect input data to have a specific shape - (samples, number of trees, channels)\n",
        "features_train = features_train.reshape(features_train.shape[0], features_train.shape[1], 1)\n",
        "features_test = features_test.reshape(features_test.shape[0], features_test.shape[1], 1)\n",
        "\n",
        "print(\"Shape of reshaped features_train:\", features_train.shape)\n",
        "print(\"Shape of reshaped features_test:\", features_test.shape)\n"
      ]
    },
    {
      "cell_type": "code",
      "execution_count": null,
      "metadata": {
        "id": "4QPEv5cJT3ij"
      },
      "outputs": [],
      "source": [
        "# Define the CNN model\n",
        "model = Sequential()\n",
        "model.add(Conv1D(filters=32, kernel_size=3, activation='relu', input_shape=(features_train.shape[1], 1)))\n",
        "model.add(MaxPooling1D(pool_size=2)) #Reduces the dimensionality of the input by taking the maximum value within each pooling window\n",
        "model.add(Flatten()) #Convert the multidimensional output from the previous layer into a flat (one-dimensional) vector, preparing it for the subsequent fully connected layers\n",
        "model.add(Dense(10, activation='relu')) #Fully connected layer\n",
        "model.add(Dense(2, activation='softmax')) #binary classification\n"
      ]
    },
    {
      "cell_type": "code",
      "execution_count": null,
      "metadata": {
        "id": "_SCap-yve_EG"
      },
      "outputs": [],
      "source": [
        "# Compile the model\n",
        "model.compile(loss='categorical_crossentropy', optimizer='adam', metrics=['accuracy'])"
      ]
    },
    {
      "cell_type": "code",
      "execution_count": null,
      "metadata": {
        "colab": {
          "base_uri": "https://localhost:8080/"
        },
        "id": "zkm616Uze_ol",
        "outputId": "94e445b1-a5f6-4e76-f483-6975356ec11a"
      },
      "outputs": [
        {
          "output_type": "stream",
          "name": "stdout",
          "text": [
            "Epoch 1/100\n",
            "101/101 [==============================] - 2s 7ms/step - loss: 3.4719 - accuracy: 0.6275 - val_loss: 0.9720 - val_accuracy: 0.7052\n",
            "Epoch 2/100\n",
            "101/101 [==============================] - 1s 5ms/step - loss: 1.2913 - accuracy: 0.6654 - val_loss: 0.9238 - val_accuracy: 0.7811\n",
            "Epoch 3/100\n",
            "101/101 [==============================] - 1s 5ms/step - loss: 0.9350 - accuracy: 0.7323 - val_loss: 0.6062 - val_accuracy: 0.7786\n",
            "Epoch 4/100\n",
            "101/101 [==============================] - 1s 5ms/step - loss: 0.6665 - accuracy: 0.7668 - val_loss: 1.9802 - val_accuracy: 0.4080\n",
            "Epoch 5/100\n",
            "101/101 [==============================] - 1s 5ms/step - loss: 0.7497 - accuracy: 0.7612 - val_loss: 0.6403 - val_accuracy: 0.7102\n",
            "Epoch 6/100\n",
            "101/101 [==============================] - 0s 5ms/step - loss: 0.5809 - accuracy: 0.7954 - val_loss: 0.6104 - val_accuracy: 0.8221\n",
            "Epoch 7/100\n",
            "101/101 [==============================] - 1s 5ms/step - loss: 0.4884 - accuracy: 0.8141 - val_loss: 0.8507 - val_accuracy: 0.7923\n",
            "Epoch 8/100\n",
            "101/101 [==============================] - 1s 7ms/step - loss: 0.6551 - accuracy: 0.7963 - val_loss: 0.6968 - val_accuracy: 0.6779\n",
            "Epoch 9/100\n",
            "101/101 [==============================] - 1s 8ms/step - loss: 0.4708 - accuracy: 0.8231 - val_loss: 0.3795 - val_accuracy: 0.8570\n",
            "Epoch 10/100\n",
            "101/101 [==============================] - 1s 7ms/step - loss: 0.4343 - accuracy: 0.8340 - val_loss: 0.3537 - val_accuracy: 0.8644\n",
            "Epoch 11/100\n",
            "101/101 [==============================] - 1s 7ms/step - loss: 0.5325 - accuracy: 0.8206 - val_loss: 0.4503 - val_accuracy: 0.8197\n",
            "Epoch 12/100\n",
            "101/101 [==============================] - 1s 5ms/step - loss: 0.3820 - accuracy: 0.8507 - val_loss: 0.5083 - val_accuracy: 0.7910\n",
            "Epoch 13/100\n",
            "101/101 [==============================] - 1s 5ms/step - loss: 0.3808 - accuracy: 0.8492 - val_loss: 0.3338 - val_accuracy: 0.8669\n",
            "Epoch 14/100\n",
            "101/101 [==============================] - 1s 5ms/step - loss: 0.3721 - accuracy: 0.8629 - val_loss: 0.3764 - val_accuracy: 0.8595\n",
            "Epoch 15/100\n",
            "101/101 [==============================] - 1s 5ms/step - loss: 0.4409 - accuracy: 0.8389 - val_loss: 0.3295 - val_accuracy: 0.8657\n",
            "Epoch 16/100\n",
            "101/101 [==============================] - 0s 5ms/step - loss: 0.4681 - accuracy: 0.8396 - val_loss: 0.3944 - val_accuracy: 0.8632\n",
            "Epoch 17/100\n",
            "101/101 [==============================] - 1s 5ms/step - loss: 0.2978 - accuracy: 0.8871 - val_loss: 0.3115 - val_accuracy: 0.8644\n",
            "Epoch 18/100\n",
            "101/101 [==============================] - 1s 5ms/step - loss: 0.2683 - accuracy: 0.9008 - val_loss: 0.3065 - val_accuracy: 0.8731\n",
            "Epoch 19/100\n",
            "101/101 [==============================] - 1s 5ms/step - loss: 0.3073 - accuracy: 0.8797 - val_loss: 0.5139 - val_accuracy: 0.7649\n",
            "Epoch 20/100\n",
            "101/101 [==============================] - 1s 5ms/step - loss: 0.2787 - accuracy: 0.8912 - val_loss: 0.3149 - val_accuracy: 0.8682\n",
            "Epoch 21/100\n",
            "101/101 [==============================] - 1s 5ms/step - loss: 0.3986 - accuracy: 0.8654 - val_loss: 0.3414 - val_accuracy: 0.8669\n",
            "Epoch 22/100\n",
            "101/101 [==============================] - 1s 5ms/step - loss: 0.3110 - accuracy: 0.8815 - val_loss: 0.3156 - val_accuracy: 0.8769\n",
            "Epoch 23/100\n",
            "101/101 [==============================] - 1s 5ms/step - loss: 0.2804 - accuracy: 0.8915 - val_loss: 0.3093 - val_accuracy: 0.8719\n",
            "Epoch 24/100\n",
            "101/101 [==============================] - 1s 5ms/step - loss: 0.2805 - accuracy: 0.8943 - val_loss: 0.2898 - val_accuracy: 0.8843\n",
            "Epoch 25/100\n",
            "101/101 [==============================] - 1s 5ms/step - loss: 0.3119 - accuracy: 0.8837 - val_loss: 0.5137 - val_accuracy: 0.8396\n",
            "Epoch 26/100\n",
            "101/101 [==============================] - 1s 5ms/step - loss: 0.3164 - accuracy: 0.8856 - val_loss: 0.3329 - val_accuracy: 0.8694\n",
            "Epoch 27/100\n",
            "101/101 [==============================] - 0s 5ms/step - loss: 0.2746 - accuracy: 0.8937 - val_loss: 0.3707 - val_accuracy: 0.8719\n",
            "Epoch 28/100\n",
            "101/101 [==============================] - 1s 5ms/step - loss: 0.2591 - accuracy: 0.9021 - val_loss: 0.3284 - val_accuracy: 0.8781\n",
            "Epoch 29/100\n",
            "101/101 [==============================] - 1s 5ms/step - loss: 0.2486 - accuracy: 0.9027 - val_loss: 0.2946 - val_accuracy: 0.8731\n",
            "Epoch 30/100\n",
            "101/101 [==============================] - 1s 6ms/step - loss: 0.2763 - accuracy: 0.8940 - val_loss: 0.3882 - val_accuracy: 0.8619\n",
            "Epoch 31/100\n",
            "101/101 [==============================] - 1s 8ms/step - loss: 0.2271 - accuracy: 0.9120 - val_loss: 0.2656 - val_accuracy: 0.8905\n",
            "Epoch 32/100\n",
            "101/101 [==============================] - 1s 8ms/step - loss: 0.2371 - accuracy: 0.9120 - val_loss: 0.2796 - val_accuracy: 0.8818\n",
            "Epoch 33/100\n",
            "101/101 [==============================] - 1s 9ms/step - loss: 0.2184 - accuracy: 0.9111 - val_loss: 0.2628 - val_accuracy: 0.8868\n",
            "Epoch 34/100\n",
            "101/101 [==============================] - 1s 5ms/step - loss: 0.2118 - accuracy: 0.9188 - val_loss: 0.2722 - val_accuracy: 0.8930\n",
            "Epoch 35/100\n",
            "101/101 [==============================] - 1s 5ms/step - loss: 0.2590 - accuracy: 0.8968 - val_loss: 0.2766 - val_accuracy: 0.8856\n",
            "Epoch 36/100\n",
            "101/101 [==============================] - 1s 5ms/step - loss: 0.2361 - accuracy: 0.9092 - val_loss: 0.4717 - val_accuracy: 0.8557\n",
            "Epoch 37/100\n",
            "101/101 [==============================] - 0s 5ms/step - loss: 0.2239 - accuracy: 0.9157 - val_loss: 0.5363 - val_accuracy: 0.7600\n",
            "Epoch 38/100\n",
            "101/101 [==============================] - 1s 5ms/step - loss: 0.2167 - accuracy: 0.9173 - val_loss: 0.2674 - val_accuracy: 0.8918\n",
            "Epoch 39/100\n",
            "101/101 [==============================] - 1s 5ms/step - loss: 0.2021 - accuracy: 0.9260 - val_loss: 0.2654 - val_accuracy: 0.8905\n",
            "Epoch 40/100\n",
            "101/101 [==============================] - 1s 5ms/step - loss: 0.1936 - accuracy: 0.9269 - val_loss: 0.2493 - val_accuracy: 0.8968\n",
            "Epoch 41/100\n",
            "101/101 [==============================] - 1s 5ms/step - loss: 0.2595 - accuracy: 0.9033 - val_loss: 0.2538 - val_accuracy: 0.8955\n",
            "Epoch 42/100\n",
            "101/101 [==============================] - 1s 5ms/step - loss: 0.1789 - accuracy: 0.9325 - val_loss: 0.2424 - val_accuracy: 0.9017\n",
            "Epoch 43/100\n",
            "101/101 [==============================] - 0s 5ms/step - loss: 0.1867 - accuracy: 0.9257 - val_loss: 0.2499 - val_accuracy: 0.8980\n",
            "Epoch 44/100\n",
            "101/101 [==============================] - 1s 5ms/step - loss: 0.1688 - accuracy: 0.9363 - val_loss: 0.3001 - val_accuracy: 0.8769\n",
            "Epoch 45/100\n",
            "101/101 [==============================] - 0s 5ms/step - loss: 0.1669 - accuracy: 0.9353 - val_loss: 0.2495 - val_accuracy: 0.9017\n",
            "Epoch 46/100\n",
            "101/101 [==============================] - 1s 5ms/step - loss: 0.1531 - accuracy: 0.9443 - val_loss: 0.3817 - val_accuracy: 0.8794\n",
            "Epoch 47/100\n",
            "101/101 [==============================] - 0s 5ms/step - loss: 0.1823 - accuracy: 0.9310 - val_loss: 0.2676 - val_accuracy: 0.9005\n",
            "Epoch 48/100\n",
            "101/101 [==============================] - 1s 5ms/step - loss: 0.1854 - accuracy: 0.9307 - val_loss: 0.3211 - val_accuracy: 0.8881\n",
            "Epoch 49/100\n",
            "101/101 [==============================] - 1s 5ms/step - loss: 0.1890 - accuracy: 0.9297 - val_loss: 0.2715 - val_accuracy: 0.8993\n",
            "Epoch 50/100\n",
            "101/101 [==============================] - 0s 5ms/step - loss: 0.1613 - accuracy: 0.9384 - val_loss: 0.2333 - val_accuracy: 0.9030\n",
            "Epoch 51/100\n",
            "101/101 [==============================] - 1s 6ms/step - loss: 0.1517 - accuracy: 0.9425 - val_loss: 0.4698 - val_accuracy: 0.8769\n",
            "Epoch 52/100\n",
            "101/101 [==============================] - 1s 5ms/step - loss: 0.1551 - accuracy: 0.9363 - val_loss: 0.2970 - val_accuracy: 0.8968\n",
            "Epoch 53/100\n",
            "101/101 [==============================] - 1s 7ms/step - loss: 0.1559 - accuracy: 0.9412 - val_loss: 0.3723 - val_accuracy: 0.8881\n",
            "Epoch 54/100\n",
            "101/101 [==============================] - 1s 8ms/step - loss: 0.1430 - accuracy: 0.9443 - val_loss: 0.2374 - val_accuracy: 0.9179\n",
            "Epoch 55/100\n",
            "101/101 [==============================] - 1s 8ms/step - loss: 0.1353 - accuracy: 0.9447 - val_loss: 0.2180 - val_accuracy: 0.9154\n",
            "Epoch 56/100\n",
            "101/101 [==============================] - 1s 7ms/step - loss: 0.1408 - accuracy: 0.9459 - val_loss: 0.2493 - val_accuracy: 0.9055\n",
            "Epoch 57/100\n",
            "101/101 [==============================] - 1s 5ms/step - loss: 0.1250 - accuracy: 0.9530 - val_loss: 0.2573 - val_accuracy: 0.9142\n",
            "Epoch 58/100\n",
            "101/101 [==============================] - 1s 5ms/step - loss: 0.1452 - accuracy: 0.9391 - val_loss: 0.2553 - val_accuracy: 0.9129\n",
            "Epoch 59/100\n",
            "101/101 [==============================] - 1s 5ms/step - loss: 0.1333 - accuracy: 0.9496 - val_loss: 0.2460 - val_accuracy: 0.9229\n",
            "Epoch 60/100\n",
            "101/101 [==============================] - 1s 5ms/step - loss: 0.1287 - accuracy: 0.9487 - val_loss: 0.2738 - val_accuracy: 0.9017\n",
            "Epoch 61/100\n",
            "101/101 [==============================] - 0s 5ms/step - loss: 0.1267 - accuracy: 0.9521 - val_loss: 0.2491 - val_accuracy: 0.9055\n",
            "Epoch 62/100\n",
            "101/101 [==============================] - 1s 5ms/step - loss: 0.1290 - accuracy: 0.9506 - val_loss: 0.2316 - val_accuracy: 0.9229\n",
            "Epoch 63/100\n",
            "101/101 [==============================] - 1s 5ms/step - loss: 0.1684 - accuracy: 0.9372 - val_loss: 0.2321 - val_accuracy: 0.9254\n",
            "Epoch 64/100\n",
            "101/101 [==============================] - 1s 5ms/step - loss: 0.1235 - accuracy: 0.9515 - val_loss: 0.2313 - val_accuracy: 0.9241\n",
            "Epoch 65/100\n",
            "101/101 [==============================] - 0s 5ms/step - loss: 0.1117 - accuracy: 0.9599 - val_loss: 0.2333 - val_accuracy: 0.9216\n",
            "Epoch 66/100\n",
            "101/101 [==============================] - 1s 5ms/step - loss: 0.1413 - accuracy: 0.9447 - val_loss: 0.2690 - val_accuracy: 0.9067\n",
            "Epoch 67/100\n",
            "101/101 [==============================] - 0s 5ms/step - loss: 0.1161 - accuracy: 0.9552 - val_loss: 0.2512 - val_accuracy: 0.9167\n",
            "Epoch 68/100\n",
            "101/101 [==============================] - 1s 5ms/step - loss: 0.1043 - accuracy: 0.9630 - val_loss: 0.2260 - val_accuracy: 0.9341\n",
            "Epoch 69/100\n",
            "101/101 [==============================] - 0s 5ms/step - loss: 0.0941 - accuracy: 0.9633 - val_loss: 0.2321 - val_accuracy: 0.9366\n",
            "Epoch 70/100\n",
            "101/101 [==============================] - 0s 5ms/step - loss: 0.0922 - accuracy: 0.9658 - val_loss: 0.2376 - val_accuracy: 0.9279\n",
            "Epoch 71/100\n",
            "101/101 [==============================] - 1s 5ms/step - loss: 0.1046 - accuracy: 0.9602 - val_loss: 0.2277 - val_accuracy: 0.9266\n",
            "Epoch 72/100\n",
            "101/101 [==============================] - 1s 5ms/step - loss: 0.0906 - accuracy: 0.9658 - val_loss: 0.2572 - val_accuracy: 0.9129\n",
            "Epoch 73/100\n",
            "101/101 [==============================] - 1s 5ms/step - loss: 0.1165 - accuracy: 0.9577 - val_loss: 0.2435 - val_accuracy: 0.9279\n",
            "Epoch 74/100\n",
            "101/101 [==============================] - 1s 5ms/step - loss: 0.0967 - accuracy: 0.9642 - val_loss: 0.2317 - val_accuracy: 0.9279\n",
            "Epoch 75/100\n",
            "101/101 [==============================] - 1s 5ms/step - loss: 0.0916 - accuracy: 0.9661 - val_loss: 0.2436 - val_accuracy: 0.9279\n",
            "Epoch 76/100\n",
            "101/101 [==============================] - 1s 8ms/step - loss: 0.0975 - accuracy: 0.9624 - val_loss: 0.2367 - val_accuracy: 0.9266\n",
            "Epoch 77/100\n",
            "101/101 [==============================] - 1s 7ms/step - loss: 0.1141 - accuracy: 0.9527 - val_loss: 0.2519 - val_accuracy: 0.9266\n",
            "Epoch 78/100\n",
            "101/101 [==============================] - 1s 8ms/step - loss: 0.0940 - accuracy: 0.9621 - val_loss: 0.2672 - val_accuracy: 0.9279\n",
            "Epoch 79/100\n",
            "101/101 [==============================] - 1s 6ms/step - loss: 0.0871 - accuracy: 0.9664 - val_loss: 0.2364 - val_accuracy: 0.9341\n",
            "Epoch 80/100\n",
            "101/101 [==============================] - 1s 5ms/step - loss: 0.0888 - accuracy: 0.9649 - val_loss: 0.2432 - val_accuracy: 0.9341\n",
            "Epoch 81/100\n",
            "101/101 [==============================] - 1s 5ms/step - loss: 0.0692 - accuracy: 0.9751 - val_loss: 0.2387 - val_accuracy: 0.9316\n",
            "Epoch 82/100\n",
            "101/101 [==============================] - 1s 5ms/step - loss: 0.0768 - accuracy: 0.9698 - val_loss: 0.2993 - val_accuracy: 0.9080\n",
            "Epoch 83/100\n",
            "101/101 [==============================] - 1s 5ms/step - loss: 0.0903 - accuracy: 0.9630 - val_loss: 0.3524 - val_accuracy: 0.9117\n",
            "Epoch 84/100\n",
            "101/101 [==============================] - 1s 5ms/step - loss: 0.0809 - accuracy: 0.9698 - val_loss: 0.2494 - val_accuracy: 0.9341\n",
            "Epoch 85/100\n",
            "101/101 [==============================] - 1s 5ms/step - loss: 0.0602 - accuracy: 0.9776 - val_loss: 0.2714 - val_accuracy: 0.9266\n",
            "Epoch 86/100\n",
            "101/101 [==============================] - 1s 5ms/step - loss: 0.0687 - accuracy: 0.9745 - val_loss: 0.2516 - val_accuracy: 0.9328\n",
            "Epoch 87/100\n",
            "101/101 [==============================] - 1s 5ms/step - loss: 0.0799 - accuracy: 0.9698 - val_loss: 0.3595 - val_accuracy: 0.8744\n",
            "Epoch 88/100\n",
            "101/101 [==============================] - 1s 5ms/step - loss: 0.1001 - accuracy: 0.9608 - val_loss: 0.2482 - val_accuracy: 0.9316\n",
            "Epoch 89/100\n",
            "101/101 [==============================] - 1s 5ms/step - loss: 0.0624 - accuracy: 0.9779 - val_loss: 0.2877 - val_accuracy: 0.9266\n",
            "Epoch 90/100\n",
            "101/101 [==============================] - 1s 5ms/step - loss: 0.0710 - accuracy: 0.9720 - val_loss: 0.2322 - val_accuracy: 0.9403\n",
            "Epoch 91/100\n",
            "101/101 [==============================] - 1s 5ms/step - loss: 0.0626 - accuracy: 0.9764 - val_loss: 0.3073 - val_accuracy: 0.9316\n",
            "Epoch 92/100\n",
            "101/101 [==============================] - 1s 5ms/step - loss: 0.0703 - accuracy: 0.9708 - val_loss: 0.2750 - val_accuracy: 0.9266\n",
            "Epoch 93/100\n",
            "101/101 [==============================] - 1s 5ms/step - loss: 0.0783 - accuracy: 0.9677 - val_loss: 0.2777 - val_accuracy: 0.9391\n",
            "Epoch 94/100\n",
            "101/101 [==============================] - 1s 5ms/step - loss: 0.0746 - accuracy: 0.9729 - val_loss: 0.2914 - val_accuracy: 0.9192\n",
            "Epoch 95/100\n",
            "101/101 [==============================] - 1s 5ms/step - loss: 0.0678 - accuracy: 0.9754 - val_loss: 0.2499 - val_accuracy: 0.9453\n",
            "Epoch 96/100\n",
            "101/101 [==============================] - 1s 6ms/step - loss: 0.0406 - accuracy: 0.9857 - val_loss: 0.2562 - val_accuracy: 0.9378\n",
            "Epoch 97/100\n",
            "101/101 [==============================] - 1s 5ms/step - loss: 0.0517 - accuracy: 0.9807 - val_loss: 0.2914 - val_accuracy: 0.9403\n",
            "Epoch 98/100\n",
            "101/101 [==============================] - 1s 7ms/step - loss: 0.0512 - accuracy: 0.9804 - val_loss: 0.2318 - val_accuracy: 0.9515\n",
            "Epoch 99/100\n",
            "101/101 [==============================] - 1s 8ms/step - loss: 0.0405 - accuracy: 0.9863 - val_loss: 0.2432 - val_accuracy: 0.9527\n",
            "Epoch 100/100\n",
            "101/101 [==============================] - 1s 8ms/step - loss: 0.0416 - accuracy: 0.9841 - val_loss: 0.2844 - val_accuracy: 0.9378\n"
          ]
        },
        {
          "output_type": "execute_result",
          "data": {
            "text/plain": [
              "<keras.callbacks.History at 0x7f96fc48b8b0>"
            ]
          },
          "metadata": {},
          "execution_count": 14
        }
      ],
      "source": [
        "# Train the model\n",
        "model.fit(features_train, to_categorical(y_train), validation_data=(features_test, to_categorical(y_test)), epochs=100, batch_size=32)"
      ]
    },
    {
      "cell_type": "code",
      "execution_count": null,
      "metadata": {
        "colab": {
          "base_uri": "https://localhost:8080/",
          "height": 1000
        },
        "id": "o8JSANpOUDky",
        "outputId": "6cf254f1-7a53-4655-d7fd-cd37c70296b4"
      },
      "outputs": [
        {
          "output_type": "stream",
          "name": "stdout",
          "text": [
            "Test loss: 0.2843700051307678\n",
            "Test accuracy: 0.9378109574317932\n",
            "26/26 [==============================] - 0s 2ms/step\n",
            "Confusion Matrix:\n",
            "[[203  38]\n",
            " [ 12 551]]\n",
            "              precision    recall  f1-score   support\n",
            "\n",
            "       False       0.94      0.84      0.89       241\n",
            "        True       0.94      0.98      0.96       563\n",
            "\n",
            "    accuracy                           0.94       804\n",
            "   macro avg       0.94      0.91      0.92       804\n",
            "weighted avg       0.94      0.94      0.94       804\n",
            "\n"
          ]
        },
        {
          "output_type": "display_data",
          "data": {
            "text/plain": [
              "<Figure size 6500x2600 with 2 Axes>"
            ],
            "image/png": "[encoded data removed]"
          },
          "metadata": {}
        }
      ],
      "source": [
        "# Evaluate the hybrid model on the test data\n",
        "from sklearn.metrics import classification_report\n",
        "import numpy as np\n",
        "score = model.evaluate(features_test, to_categorical(y_test), verbose=0)\n",
        "print('Test loss:', score[0])\n",
        "print('Test accuracy:', score[1])\n",
        "from sklearn.metrics import classification_report\n",
        "\n",
        "# Get the predicted values of the model on the test data\n",
        "y_pred = model.predict(features_test)\n",
        "y_pred = np.argmax(y_pred, axis=1)\n",
        "\n",
        "# Get the true values of the test data\n",
        "y_true = y_test\n",
        "\n",
        "# Get the confusion matrix\n",
        "CM = confusion_matrix(y_true, y_pred)\n",
        "plot_confusion_matrix(CM, classes = range(2),cmap=plt.cm.Reds)\n",
        "print(\"Confusion Matrix:\")\n",
        "print(CM)\n",
        "\n",
        "# Get the classification report\n",
        "report = classification_report(y_true, y_pred)\n",
        "print(report)\n"
      ]
    },
    {
      "cell_type": "code",
      "execution_count": null,
      "metadata": {
        "id": "-R84Z5HPhcRc"
      },
      "outputs": [],
      "source": [
        "model.save(\"cnn_model.h5\")\n"
      ]
    },
    {
      "cell_type": "code",
      "execution_count": null,
      "metadata": {
        "id": "UIEBAKenr1Ad"
      },
      "outputs": [],
      "source": [
        "# Load the saved model\n",
        "import numpy as np\n",
        "from keras.models import load_model\n",
        "model = load_model('/content/cnn_model.h5')\n",
        "new_data = pd.read_csv(\"/content/angular-login-example_metric_values.csv\")\n",
        "\n",
        "# Preprocess the new data\n",
        "# Handle missing values\n",
        "new_data.fillna(0, inplace=True)  # Replace missing values with 0 or use appropriate imputation method\n",
        "\n",
        "# Apply feature scaling\n",
        "scaler = StandardScaler()\n",
        "new_data_scaled = scaler.fit_transform(new_data)\n",
        "\n",
        "# Extract features using the trained Random Forest Classifier on the new data\n",
        "new_features = rfc.apply(new_data_scaled)\n",
        "new_features = new_features.reshape(new_features.shape[0], new_features.shape[1], 1)\n",
        "\n",
        "# new_features = rfc.apply(new_data)\n",
        "# new_features = new_features.reshape(new_features.shape[0], new_features.shape[1], 1)\n",
        "\n",
        "# Make predictions using the trained model\n",
        "predictions = model.predict(new_features)\n",
        "\n",
        "# Convert the predicted probabilities into class labels\n",
        "predicted_classes = np.argmax(predictions, axis=1)\n",
        "\n",
        "# Print the predicted class labels\n",
        "print(predicted_classes)\n",
        "\n"
      ]
    },
    {
      "cell_type": "code",
      "source": [
        "# Calculate confidence score for the predictions\n",
        "confidence_scores = np.max(predictions, axis=1) * 100\n",
        "\n",
        "# Print the predicted class labels and confidence scores\n",
        "for i in range(len(predicted_classes)):\n",
        "    #print(\"Project:\", new_data.iloc[i]['project_name'])\n",
        "    print(\"Predicted Class:\", predicted_classes[i])\n",
        "    print(\"Confidence Score (%):\", confidence_scores[i])\n",
        "    print()"
      ],
      "metadata": {
        "id": "gk_IcY6nvZOn",
        "colab": {
          "base_uri": "https://localhost:8080/"
        },
        "outputId": "51440018-ef01-4a9b-c52c-3b52378307e9"
      },
      "execution_count": null,
      "outputs": [
        {
          "output_type": "stream",
          "name": "stdout",
          "text": [
            "Predicted Class: 1\n",
            "Confidence Score (%): 99.999954\n",
            "\n"
          ]
        }
      ]
    }
  ],
  "metadata": {
    "colab": {
      "provenance": []
    },
    "kernelspec": {
      "display_name": "Python 3",
      "name": "python3"
    },
    "language_info": {
      "name": "python"
    }
  },
  "nbformat": 4,
  "nbformat_minor": 0
}